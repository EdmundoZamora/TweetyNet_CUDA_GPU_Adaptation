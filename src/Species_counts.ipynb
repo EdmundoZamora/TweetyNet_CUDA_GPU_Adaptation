{
 "cells": [
  {
   "cell_type": "code",
   "execution_count": 1,
   "metadata": {},
   "outputs": [],
   "source": [
    "import pandas as pd\n",
    "# group by taxa, number for multi-species classification"
   ]
  },
  {
   "cell_type": "code",
   "execution_count": 2,
   "metadata": {},
   "outputs": [],
   "source": [
    "Species =  pd.read_csv('Species_Names.txt', sep='[-]', engine='python',names = ['Species','Taxa','Serial'])\n",
    "Species_Cluster = pd.read_csv('Species_Names_Cluster.txt', sep='[-]', engine='python',names = ['Species','Taxa','Serial'])\n",
    "Species = pd.DataFrame(Species)\n",
    "Species_Cluster = pd.DataFrame(Species_Cluster)"
   ]
  },
  {
   "cell_type": "code",
   "execution_count": 3,
   "metadata": {},
   "outputs": [
    {
     "data": {
      "text/html": [
       "<div>\n",
       "<style scoped>\n",
       "    .dataframe tbody tr th:only-of-type {\n",
       "        vertical-align: middle;\n",
       "    }\n",
       "\n",
       "    .dataframe tbody tr th {\n",
       "        vertical-align: top;\n",
       "    }\n",
       "\n",
       "    .dataframe thead th {\n",
       "        text-align: right;\n",
       "    }\n",
       "</style>\n",
       "<table border=\"1\" class=\"dataframe\">\n",
       "  <thead>\n",
       "    <tr style=\"text-align: right;\">\n",
       "      <th></th>\n",
       "      <th>Species</th>\n",
       "      <th>Taxa</th>\n",
       "      <th>Serial</th>\n",
       "    </tr>\n",
       "  </thead>\n",
       "  <tbody>\n",
       "    <tr>\n",
       "      <th>0</th>\n",
       "      <td>Accipiter</td>\n",
       "      <td>superciliosus</td>\n",
       "      <td>329800.wav</td>\n",
       "    </tr>\n",
       "    <tr>\n",
       "      <th>1</th>\n",
       "      <td>Accipiter</td>\n",
       "      <td>superciliosus</td>\n",
       "      <td>427037.wav</td>\n",
       "    </tr>\n",
       "    <tr>\n",
       "      <th>2</th>\n",
       "      <td>Actitis</td>\n",
       "      <td>macularius</td>\n",
       "      <td>448472.wav</td>\n",
       "    </tr>\n",
       "    <tr>\n",
       "      <th>3</th>\n",
       "      <td>Agamia</td>\n",
       "      <td>agami</td>\n",
       "      <td>75996.wav</td>\n",
       "    </tr>\n",
       "    <tr>\n",
       "      <th>4</th>\n",
       "      <td>Agelasticus</td>\n",
       "      <td>xanthophthalmus</td>\n",
       "      <td>20921.wav</td>\n",
       "    </tr>\n",
       "    <tr>\n",
       "      <th>...</th>\n",
       "      <td>...</td>\n",
       "      <td>...</td>\n",
       "      <td>...</td>\n",
       "    </tr>\n",
       "    <tr>\n",
       "      <th>576</th>\n",
       "      <td>Xiphocolaptes</td>\n",
       "      <td>promeropirhynchus</td>\n",
       "      <td>23623.wav</td>\n",
       "    </tr>\n",
       "    <tr>\n",
       "      <th>577</th>\n",
       "      <td>Xiphocolaptes</td>\n",
       "      <td>promeropirhynchus</td>\n",
       "      <td>23624.wav</td>\n",
       "    </tr>\n",
       "    <tr>\n",
       "      <th>578</th>\n",
       "      <td>Xiphorhynchus</td>\n",
       "      <td>obsoletus</td>\n",
       "      <td>437341.wav</td>\n",
       "    </tr>\n",
       "    <tr>\n",
       "      <th>579</th>\n",
       "      <td>Xiphorhynchus</td>\n",
       "      <td>obsoletus</td>\n",
       "      <td>47976.wav</td>\n",
       "    </tr>\n",
       "    <tr>\n",
       "      <th>580</th>\n",
       "      <td>Zimmerius</td>\n",
       "      <td>gracilipes</td>\n",
       "      <td>258668.wav</td>\n",
       "    </tr>\n",
       "  </tbody>\n",
       "</table>\n",
       "<p>581 rows × 3 columns</p>\n",
       "</div>"
      ],
      "text/plain": [
       "           Species               Taxa      Serial\n",
       "0        Accipiter      superciliosus  329800.wav\n",
       "1        Accipiter      superciliosus  427037.wav\n",
       "2          Actitis         macularius  448472.wav\n",
       "3           Agamia              agami   75996.wav\n",
       "4      Agelasticus    xanthophthalmus   20921.wav\n",
       "..             ...                ...         ...\n",
       "576  Xiphocolaptes  promeropirhynchus   23623.wav\n",
       "577  Xiphocolaptes  promeropirhynchus   23624.wav\n",
       "578  Xiphorhynchus          obsoletus  437341.wav\n",
       "579  Xiphorhynchus          obsoletus   47976.wav\n",
       "580      Zimmerius         gracilipes  258668.wav\n",
       "\n",
       "[581 rows x 3 columns]"
      ]
     },
     "execution_count": 3,
     "metadata": {},
     "output_type": "execute_result"
    }
   ],
   "source": [
    "Species"
   ]
  },
  {
   "cell_type": "code",
   "execution_count": 4,
   "metadata": {},
   "outputs": [
    {
     "data": {
      "text/plain": [
       "Species       \n",
       "Tangara           16\n",
       "Euphonia          12\n",
       "Turdus            12\n",
       "Myrmotherula      11\n",
       "Myiothlypis       11\n",
       "                  ..\n",
       "Myrmoborus         1\n",
       "Myrmelastes        1\n",
       "Emberizoides       1\n",
       "Epinecrophylla     1\n",
       "Zimmerius          1\n",
       "Length: 238, dtype: int64"
      ]
     },
     "execution_count": 4,
     "metadata": {},
     "output_type": "execute_result"
    }
   ],
   "source": [
    "Species[['Species']].value_counts()"
   ]
  },
  {
   "cell_type": "code",
   "execution_count": 5,
   "metadata": {},
   "outputs": [
    {
     "data": {
      "text/plain": [
       "Species       Taxa       \n",
       "Phaeomyias    murina         5\n",
       "Euphonia      chlorotica     4\n",
       "Molothrus     bonariensis    4\n",
       "Attila        cinnamomeus    4\n",
       "Patagioenas   subvinacea     4\n",
       "                            ..\n",
       "Conirostrum   speciosum      1\n",
       "Columbina     talpacoti      1\n",
       "Myrmotherula  menetriesii    1\n",
       "Columba       livia          1\n",
       "Zimmerius     gracilipes     1\n",
       "Length: 350, dtype: int64"
      ]
     },
     "execution_count": 5,
     "metadata": {},
     "output_type": "execute_result"
    }
   ],
   "source": [
    "Species[['Species','Taxa']].value_counts()"
   ]
  },
  {
   "cell_type": "code",
   "execution_count": 6,
   "metadata": {},
   "outputs": [
    {
     "data": {
      "text/html": [
       "<div>\n",
       "<style scoped>\n",
       "    .dataframe tbody tr th:only-of-type {\n",
       "        vertical-align: middle;\n",
       "    }\n",
       "\n",
       "    .dataframe tbody tr th {\n",
       "        vertical-align: top;\n",
       "    }\n",
       "\n",
       "    .dataframe thead th {\n",
       "        text-align: right;\n",
       "    }\n",
       "</style>\n",
       "<table border=\"1\" class=\"dataframe\">\n",
       "  <thead>\n",
       "    <tr style=\"text-align: right;\">\n",
       "      <th></th>\n",
       "      <th>Species</th>\n",
       "      <th>Taxa</th>\n",
       "      <th>Serial</th>\n",
       "    </tr>\n",
       "  </thead>\n",
       "  <tbody>\n",
       "    <tr>\n",
       "      <th>0</th>\n",
       "      <td>Aburria</td>\n",
       "      <td>aburri</td>\n",
       "      <td>257423.wav</td>\n",
       "    </tr>\n",
       "    <tr>\n",
       "      <th>1</th>\n",
       "      <td>Aburria</td>\n",
       "      <td>aburri</td>\n",
       "      <td>387212.wav</td>\n",
       "    </tr>\n",
       "    <tr>\n",
       "      <th>2</th>\n",
       "      <td>Accipiter</td>\n",
       "      <td>bicolor</td>\n",
       "      <td>451839.wav</td>\n",
       "    </tr>\n",
       "    <tr>\n",
       "      <th>3</th>\n",
       "      <td>Accipiter</td>\n",
       "      <td>collaris</td>\n",
       "      <td>260335.wav</td>\n",
       "    </tr>\n",
       "    <tr>\n",
       "      <th>4</th>\n",
       "      <td>Accipiter</td>\n",
       "      <td>collaris</td>\n",
       "      <td>260336.wav</td>\n",
       "    </tr>\n",
       "    <tr>\n",
       "      <th>...</th>\n",
       "      <td>...</td>\n",
       "      <td>...</td>\n",
       "      <td>...</td>\n",
       "    </tr>\n",
       "    <tr>\n",
       "      <th>2484</th>\n",
       "      <td>Zimmerius</td>\n",
       "      <td>gracilipes</td>\n",
       "      <td>258668.wav</td>\n",
       "    </tr>\n",
       "    <tr>\n",
       "      <th>2485</th>\n",
       "      <td>Zimmerius</td>\n",
       "      <td>gracilipes</td>\n",
       "      <td>258669.wav</td>\n",
       "    </tr>\n",
       "    <tr>\n",
       "      <th>2486</th>\n",
       "      <td>Zonotrichia</td>\n",
       "      <td>capensis</td>\n",
       "      <td>232609.wav</td>\n",
       "    </tr>\n",
       "    <tr>\n",
       "      <th>2487</th>\n",
       "      <td>Zonotrichia</td>\n",
       "      <td>capensis</td>\n",
       "      <td>377483.wav</td>\n",
       "    </tr>\n",
       "    <tr>\n",
       "      <th>2488</th>\n",
       "      <td>Zonotrichia</td>\n",
       "      <td>capensis</td>\n",
       "      <td>47546.wav</td>\n",
       "    </tr>\n",
       "  </tbody>\n",
       "</table>\n",
       "<p>2489 rows × 3 columns</p>\n",
       "</div>"
      ],
      "text/plain": [
       "          Species        Taxa      Serial\n",
       "0         Aburria      aburri  257423.wav\n",
       "1         Aburria      aburri  387212.wav\n",
       "2       Accipiter     bicolor  451839.wav\n",
       "3       Accipiter    collaris  260335.wav\n",
       "4       Accipiter    collaris  260336.wav\n",
       "...           ...         ...         ...\n",
       "2484    Zimmerius  gracilipes  258668.wav\n",
       "2485    Zimmerius  gracilipes  258669.wav\n",
       "2486  Zonotrichia    capensis  232609.wav\n",
       "2487  Zonotrichia    capensis  377483.wav\n",
       "2488  Zonotrichia    capensis   47546.wav\n",
       "\n",
       "[2489 rows x 3 columns]"
      ]
     },
     "execution_count": 6,
     "metadata": {},
     "output_type": "execute_result"
    }
   ],
   "source": [
    "Species_Cluster"
   ]
  },
  {
   "cell_type": "code",
   "execution_count": 7,
   "metadata": {},
   "outputs": [
    {
     "data": {
      "text/plain": [
       "Species     \n",
       "Tangara         31\n",
       "Euphonia        29\n",
       "Sporophila      29\n",
       "Calidris        24\n",
       "Myrmotherula    24\n",
       "                ..\n",
       "Diopsittaca      1\n",
       "Harpia           1\n",
       "Heliornis        1\n",
       "Selenidera       1\n",
       "Querula          1\n",
       "Length: 499, dtype: int64"
      ]
     },
     "execution_count": 7,
     "metadata": {},
     "output_type": "execute_result"
    }
   ],
   "source": [
    "Species_Cluster[['Species']].value_counts()"
   ]
  },
  {
   "cell_type": "code",
   "execution_count": 9,
   "metadata": {},
   "outputs": [],
   "source": [
    "vc = Species_Cluster[['Species','Taxa']].value_counts()"
   ]
  },
  {
   "cell_type": "code",
   "execution_count": 10,
   "metadata": {},
   "outputs": [
    {
     "data": {
      "text/plain": [
       "Species         Taxa           \n",
       "Lepidothrix     coronata           8\n",
       "Euphonia        laniirostris       7\n",
       "Haplospiza      rustica            7\n",
       "Streptoprocne   zonaris            7\n",
       "Sporophila      castaneiventris    7\n",
       "                                  ..\n",
       "Ara             chloropterus       3\n",
       "Epinecrophylla  ornata             3\n",
       "Empidonomus     varius             3\n",
       "Entomodestes    leucotis           3\n",
       "Eubucco         richardsoni        3\n",
       "Length: 507, dtype: int64"
      ]
     },
     "execution_count": 10,
     "metadata": {},
     "output_type": "execute_result"
    }
   ],
   "source": [
    "vc[vc > 2]"
   ]
  },
  {
   "cell_type": "code",
   "execution_count": null,
   "metadata": {},
   "outputs": [],
   "source": []
  }
 ],
 "metadata": {
  "interpreter": {
   "hash": "3c179e6314f3ff6dd44304c389efdddfd0ffbfddadbb0c49e0b38b3d21ffdc1c"
  },
  "kernelspec": {
   "display_name": "Python 3.8.12 ('tweety')",
   "language": "python",
   "name": "python3"
  },
  "language_info": {
   "codemirror_mode": {
    "name": "ipython",
    "version": 3
   },
   "file_extension": ".py",
   "mimetype": "text/x-python",
   "name": "python",
   "nbconvert_exporter": "python",
   "pygments_lexer": "ipython3",
   "version": "3.8.12"
  },
  "orig_nbformat": 4
 },
 "nbformat": 4,
 "nbformat_minor": 2
}
