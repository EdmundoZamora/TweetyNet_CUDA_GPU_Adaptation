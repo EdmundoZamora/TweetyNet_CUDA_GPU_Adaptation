{
 "cells": [
  {
   "cell_type": "code",
   "execution_count": 652,
   "metadata": {},
   "outputs": [],
   "source": [
    "import pandas as pd\n",
    "import os\n",
    "import matplotlib.pyplot as pl\n",
    "\n",
    "import seaborn as sns\n",
    "import matplotlib.pyplot as plt\n",
    "# sns.set_theme(style=\"ticks\", color_codes=True)\n",
    "\n",
    "# turn this into a function gets all classifications, graphs them next to their rate."
   ]
  },
  {
   "cell_type": "code",
   "execution_count": 653,
   "metadata": {},
   "outputs": [],
   "source": [
    "evals = pd.read_csv(r\"C:\\Users\\lianl\\Repositories\\TweetyNet_CUDA_GPU_Adaptation\\data\\out\\nips4b_birds_classificationfile001.csv\") "
   ]
  },
  {
   "cell_type": "code",
   "execution_count": 654,
   "metadata": {},
   "outputs": [
    {
     "data": {
      "text/plain": [
       "216"
      ]
     },
     "execution_count": 654,
     "metadata": {},
     "output_type": "execute_result"
    }
   ],
   "source": [
    "len(evals['label'])"
   ]
  },
  {
   "cell_type": "code",
   "execution_count": 655,
   "metadata": {},
   "outputs": [
    {
     "data": {
      "text/plain": [
       "str"
      ]
     },
     "execution_count": 655,
     "metadata": {},
     "output_type": "execute_result"
    }
   ],
   "source": [
    "title = evals['file'].unique()[0]\n",
    "type(title)"
   ]
  },
  {
   "cell_type": "code",
   "execution_count": 656,
   "metadata": {},
   "outputs": [],
   "source": [
    "to_plot = evals[['pred','label','temporal_frame_start_times']].copy(True) #,'cfnmtx'\n",
    "# df.drop(df[df['Age'] < 25].index, inplace = True)\n",
    "# to_plot.drop(to_plot[(to_plot['pred'] == 0) & (to_plot['label'] == 0)].index, inplace = True)\n",
    "# to_plot"
   ]
  },
  {
   "cell_type": "code",
   "execution_count": 657,
   "metadata": {},
   "outputs": [],
   "source": [
    "# to_plot"
   ]
  },
  {
   "cell_type": "code",
   "execution_count": 658,
   "metadata": {},
   "outputs": [],
   "source": [
    "pred = to_plot['pred'].values.tolist()"
   ]
  },
  {
   "cell_type": "code",
   "execution_count": 659,
   "metadata": {},
   "outputs": [],
   "source": [
    "label = to_plot['label'].values.tolist()"
   ]
  },
  {
   "cell_type": "code",
   "execution_count": 660,
   "metadata": {},
   "outputs": [],
   "source": [
    "time = to_plot['temporal_frame_start_times'].values.tolist()\n",
    "# time"
   ]
  },
  {
   "cell_type": "code",
   "execution_count": 661,
   "metadata": {},
   "outputs": [],
   "source": [
    "#pred,label,time"
   ]
  },
  {
   "cell_type": "code",
   "execution_count": 662,
   "metadata": {},
   "outputs": [],
   "source": [
    "# pl.plot(to_plot)\n",
    "# pl.show()"
   ]
  },
  {
   "cell_type": "code",
   "execution_count": 663,
   "metadata": {},
   "outputs": [],
   "source": [
    "# sns.catplot(x=\"temporal_frame_start_times\", y=\"pred\", hue=\"pred\", kind=\"swarm\", data= to_plot)\n",
    "# pl.show()"
   ]
  },
  {
   "cell_type": "code",
   "execution_count": 664,
   "metadata": {},
   "outputs": [],
   "source": [
    "# sns.catplot(x=\"temporal_frame_start_times\", y=\"label\", hue=\"label\", kind=\"swarm\", data= to_plot)\n",
    "# pl.show()"
   ]
  },
  {
   "cell_type": "code",
   "execution_count": 665,
   "metadata": {},
   "outputs": [],
   "source": [
    "dfm = to_plot.melt(\"temporal_frame_start_times\", var_name='bin', value_name='vals')"
   ]
  },
  {
   "cell_type": "code",
   "execution_count": 666,
   "metadata": {},
   "outputs": [],
   "source": [
    "# dfm"
   ]
  },
  {
   "cell_type": "code",
   "execution_count": 667,
   "metadata": {},
   "outputs": [],
   "source": [
    "# sns.catplot(x=\"temporal_frame_start_times\", y='vals', hue=\"bin\", kind=\"swarm\", data= dfm)\n",
    "# pl.show()"
   ]
  },
  {
   "cell_type": "code",
   "execution_count": 668,
   "metadata": {},
   "outputs": [],
   "source": [
    "viz = to_plot.copy(True)"
   ]
  },
  {
   "cell_type": "code",
   "execution_count": 669,
   "metadata": {},
   "outputs": [],
   "source": [
    "\n",
    "viz = viz.replace({'label':{0:0,1:1}})\n",
    "viz = viz.replace({'pred':{0:0,1:1}})"
   ]
  },
  {
   "cell_type": "code",
   "execution_count": 670,
   "metadata": {},
   "outputs": [],
   "source": [
    "# viz"
   ]
  },
  {
   "cell_type": "code",
   "execution_count": 671,
   "metadata": {},
   "outputs": [],
   "source": [
    "dfm_viz = viz.melt(\"temporal_frame_start_times\", var_name='bin', value_name='Presence')\n",
    "# dfm\n",
    "# dfm_viz.loc[(dfm_viz.bin == 'pred' ) & (dfm_viz.Presence == 0), \"bin\"] = \"pred_absence\"\n",
    "# dfm_viz.loc[(dfm_viz.bin == 'label' ) & (dfm_viz.Presence == 0), \"bin\"] = \"true_absence\"\n",
    "\n",
    "# dfm_viz.loc[(dfm_viz.bin == 'cfnmtx' ) & (dfm_viz.Presence == 'TP'), \"bin\"] = \"TP\"\n",
    "# dfm_viz.loc[(dfm_viz.bin == 'cfnmtx' ) & (dfm_viz.Presence == 'TN'), \"bin\"] = \"TN\"\n",
    "# dfm_viz.loc[(dfm_viz.bin == 'cfnmtx' ) & (dfm_viz.Presence == 'FP'), \"bin\"] = \"FP\"\n",
    "# dfm_viz.loc[(dfm_viz.bin == 'cfnmtx' ) & (dfm_viz.Presence == 'FN'), \"bin\"] = \"FN\"\n"
   ]
  },
  {
   "cell_type": "code",
   "execution_count": 672,
   "metadata": {},
   "outputs": [],
   "source": [
    "# dfm_viz"
   ]
  },
  {
   "cell_type": "code",
   "execution_count": 673,
   "metadata": {},
   "outputs": [
    {
     "data": {
      "text/html": [
       "<div>\n",
       "<style scoped>\n",
       "    .dataframe tbody tr th:only-of-type {\n",
       "        vertical-align: middle;\n",
       "    }\n",
       "\n",
       "    .dataframe tbody tr th {\n",
       "        vertical-align: top;\n",
       "    }\n",
       "\n",
       "    .dataframe thead th {\n",
       "        text-align: right;\n",
       "    }\n",
       "</style>\n",
       "<table border=\"1\" class=\"dataframe\">\n",
       "  <thead>\n",
       "    <tr style=\"text-align: right;\">\n",
       "      <th></th>\n",
       "      <th>temporal_frame_start_times</th>\n",
       "      <th>bin</th>\n",
       "      <th>Presence</th>\n",
       "    </tr>\n",
       "  </thead>\n",
       "  <tbody>\n",
       "    <tr>\n",
       "      <th>30</th>\n",
       "      <td>0.696599</td>\n",
       "      <td>pred</td>\n",
       "      <td>0</td>\n",
       "    </tr>\n",
       "  </tbody>\n",
       "</table>\n",
       "</div>"
      ],
      "text/plain": [
       "    temporal_frame_start_times   bin  Presence\n",
       "30                    0.696599  pred         0"
      ]
     },
     "execution_count": 673,
     "metadata": {},
     "output_type": "execute_result"
    }
   ],
   "source": [
    "pd.set_option(\"display.max_rows\", None, \"display.max_columns\", None)\n",
    "dfm_viz.sample()#.head(10)"
   ]
  },
  {
   "cell_type": "code",
   "execution_count": 674,
   "metadata": {},
   "outputs": [
    {
     "data": {
      "text/plain": [
       "Index(['temporal_frame_start_times', 'bin', 'Presence'], dtype='object')"
      ]
     },
     "execution_count": 674,
     "metadata": {},
     "output_type": "execute_result"
    }
   ],
   "source": [
    "dfm_viz.columns"
   ]
  },
  {
   "cell_type": "code",
   "execution_count": 675,
   "metadata": {},
   "outputs": [],
   "source": [
    "# to_plot.drop(to_plot[(to_plot['pred'] == 0) & (to_plot['label'] == 0)].index, inplace = True)\n",
    "dfm_viz.drop(dfm_viz[dfm_viz['Presence'] == 0].index, inplace = True)\n",
    "# dfm_viz.sample()"
   ]
  },
  {
   "cell_type": "code",
   "execution_count": 676,
   "metadata": {},
   "outputs": [],
   "source": [
    "# import seaborn as sns\n",
    "# import numpy as np\n",
    "# import matplotlib.pyplot as plt\n",
    "# import matplotlib.ticker as ticker"
   ]
  },
  {
   "cell_type": "code",
   "execution_count": 677,
   "metadata": {},
   "outputs": [
    {
     "data": {
      "image/png": "[encoded data removed]",
      "text/plain": [
       "<Figure size 1296x216 with 1 Axes>"
      ]
     },
     "metadata": {},
     "output_type": "display_data"
    }
   ],
   "source": [
    "sns.set_theme()\n",
    "g = sns.catplot(x=\"temporal_frame_start_times\", y='bin', kind=\"swarm\",height = 3,aspect = 6,data= dfm_viz)\n",
    "# g = sns.scatterplot(data=dfm_viz, x=\"temporal_frame_start_times\", y=\"Presence\", hue=\"bin\")\n",
    "# g.set(rc={'figure.figsize':(12,8.27)})\n",
    "# g.set(xticklabels=[])  \n",
    "# g.set(yticklabels=[]) \n",
    "# g.yaxis.set_major_locator(ticker.MultipleLocator(1)) \n",
    "# g.set(title='Penguins: Body Mass by Species for Gender')\n",
    "g.fig.subplots_adjust(top=0.9)\n",
    "g.fig.suptitle(title)\n",
    "g.set(ylabel=None)\n",
    "# g.tick_params(bottom=False)\n",
    "pl.show()"
   ]
  },
  {
   "cell_type": "code",
   "execution_count": null,
   "metadata": {},
   "outputs": [],
   "source": []
  },
  {
   "cell_type": "code",
   "execution_count": null,
   "metadata": {},
   "outputs": [],
   "source": []
  },
  {
   "cell_type": "code",
   "execution_count": null,
   "metadata": {},
   "outputs": [],
   "source": []
  },
  {
   "cell_type": "code",
   "execution_count": 678,
   "metadata": {},
   "outputs": [],
   "source": [
    "#DATAMINING"
   ]
  },
  {
   "cell_type": "code",
   "execution_count": 679,
   "metadata": {},
   "outputs": [],
   "source": [
    "# import numpy as np\n",
    "# import matplotlib.ticker as tkr"
   ]
  },
  {
   "cell_type": "code",
   "execution_count": 680,
   "metadata": {},
   "outputs": [],
   "source": [
    "# datamine = pd.read_csv(r\"C:\\Users\\lianl\\Repositories\\Q1-Project-Code\\data\\raw\\NIPS4B_BIRD_CHALLENGE_TRAIN_TEST_WAV\\temporal_annotations_nips4b\\annotation_train001.csv\") "
   ]
  },
  {
   "cell_type": "code",
   "execution_count": 681,
   "metadata": {},
   "outputs": [],
   "source": [
    "# datamine"
   ]
  },
  {
   "cell_type": "code",
   "execution_count": 682,
   "metadata": {},
   "outputs": [],
   "source": [
    "# g = sns.catplot(x=\"temporal_frame_start_times\", y='Presence', hue=\"bin\", kind=\"swarm\",height = 12, aspect = 3,data= dfm_viz)\n",
    "\n",
    "# pl.show()"
   ]
  },
  {
   "cell_type": "code",
   "execution_count": 683,
   "metadata": {},
   "outputs": [],
   "source": [
    "# pl.plot(datamine[datamine.columns[:2]], 'o')\n",
    "# pl.plot(style=['o','rx'])\n",
    "# plt.show()"
   ]
  },
  {
   "cell_type": "code",
   "execution_count": 684,
   "metadata": {},
   "outputs": [],
   "source": [
    "# start = datamine[datamine.columns[0]]\n",
    "# duration = datamine[datamine.columns[1]]\n",
    "# end = start + duration\n",
    "# end"
   ]
  },
  {
   "cell_type": "code",
   "execution_count": 685,
   "metadata": {},
   "outputs": [],
   "source": [
    "# sing = start.append(end).sort_values()\n",
    "# sing.index_set(1)"
   ]
  },
  {
   "cell_type": "code",
   "execution_count": 686,
   "metadata": {},
   "outputs": [],
   "source": [
    "# pl.plot(start, 'o')\n",
    "# pl.plot(style=['o','rx'])\n",
    "# plt.show()"
   ]
  },
  {
   "cell_type": "code",
   "execution_count": 687,
   "metadata": {},
   "outputs": [],
   "source": [
    "# pl.plot(end, 'o')\n",
    "# pl.plot(style=['o','rx'])\n",
    "# plt.show()"
   ]
  },
  {
   "cell_type": "code",
   "execution_count": 688,
   "metadata": {},
   "outputs": [],
   "source": [
    "# pl.plot(start,end, 'o')\n",
    "# pl.plot(style=['o','rx'])\n",
    "# plt.show()"
   ]
  },
  {
   "cell_type": "code",
   "execution_count": 689,
   "metadata": {},
   "outputs": [],
   "source": [
    "# pl.plot(sing,sing.index.to_list(), 'o')\n",
    "# plt.show()"
   ]
  },
  {
   "cell_type": "code",
   "execution_count": null,
   "metadata": {},
   "outputs": [],
   "source": []
  },
  {
   "cell_type": "code",
   "execution_count": null,
   "metadata": {},
   "outputs": [],
   "source": []
  }
 ],
 "metadata": {
  "interpreter": {
   "hash": "d1b7c51cb1c07a1a0543a455994ca61e31e66a1747528d0d0492d9b5937ed4ce"
  },
  "kernelspec": {
   "display_name": "Python 3.8.12 64-bit ('tweety': conda)",
   "language": "python",
   "name": "python3"
  },
  "language_info": {
   "codemirror_mode": {
    "name": "ipython",
    "version": 3
   },
   "file_extension": ".py",
   "mimetype": "text/x-python",
   "name": "python",
   "nbconvert_exporter": "python",
   "pygments_lexer": "ipython3",
   "version": "3.8.12"
  },
  "orig_nbformat": 4
 },
 "nbformat": 4,
 "nbformat_minor": 2
}
