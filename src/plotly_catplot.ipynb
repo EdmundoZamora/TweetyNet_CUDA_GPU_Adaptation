{
 "cells": [
  {
   "cell_type": "code",
   "execution_count": 1,
   "metadata": {},
   "outputs": [],
   "source": [
    "import pandas as pd\n",
    "import os\n",
    "import matplotlib.pyplot as pl\n",
    "\n",
    "import seaborn as sns\n",
    "import matplotlib.pyplot as plt\n",
    "import plotly.express as px\n"
   ]
  },
  {
   "cell_type": "code",
   "execution_count": 2,
   "metadata": {},
   "outputs": [
    {
     "name": "stdout",
     "output_type": "stream",
     "text": [
      "(291, 3)\n",
      "(325, 3)\n",
      "(461, 3)\n"
     ]
    }
   ],
   "source": [
    "# def file_graph_temporal(num_graphs):\n",
    "dir = r\"C:\\Users\\lianl\\Repositories\\TweetyNet_CUDA_GPU_Adaptation\\data\\out\\separate_evaluations\"\n",
    "filenames = os.listdir(dir)\n",
    "# print(filenames)\n",
    "# print(len(filenames))\n",
    "# print(filenames[0][:-4])\n",
    "# return\n",
    "dir2 = r\"C:\\Users\\lianl\\Repositories\\TweetyNet_CUDA_GPU_Adaptation\\data\\out\"\n",
    "os.makedirs(os.path.join(dir2,\"temporal_plots_test\"))\n",
    "# test on one file.\n",
    "for i in range(3):#len(filenames)\n",
    "    # print(filenames[i])\n",
    "    evals = pd.read_csv(os.path.join(dir,filenames[i])) \n",
    "\n",
    "    title = evals['file'].unique()[0]\n",
    "\n",
    "    to_plot = evals[['pred','label','temporal_frame_start_times']].copy(True) #,'cfnmtx'\n",
    "\n",
    "    dfm = to_plot.melt(\"temporal_frame_start_times\", var_name='bin', value_name='vals')\n",
    "\n",
    "    viz = to_plot.copy(True)\n",
    "\n",
    "    viz = viz.replace({'label':{0:0,1:1}})\n",
    "    viz = viz.replace({'pred':{0:0,1:1}})\n",
    "\n",
    "    dfm_viz = viz.melt(\"temporal_frame_start_times\", var_name='bin', value_name='Presence')\n",
    "\n",
    "    # comment out if absence is wanted on graph\n",
    "    dfm_viz.drop(dfm_viz[dfm_viz['Presence'] == 0].index, inplace = True)\n",
    "    print(dfm_viz.shape)\n",
    "\n",
    "    # more chart info\n",
    "    '''\n",
    "    # dfm_viz.loc[(dfm_viz.bin == 'pred' ) & (dfm_viz.Presence == 0), \"bin\"] = \"pred_absence\"\n",
    "    # dfm_viz.loc[(dfm_viz.bin == 'label' ) & (dfm_viz.Presence == 0), \"bin\"] = \"true_absence\"\n",
    "\n",
    "    # dfm_viz.loc[(dfm_viz.bin == 'cfnmtx' ) & (dfm_viz.Presence == 'TP'), \"bin\"] = \"TP\"\n",
    "    # dfm_viz.loc[(dfm_viz.bin == 'cfnmtx' ) & (dfm_viz.Presence == 'TN'), \"bin\"] = \"TN\"\n",
    "    # dfm_viz.loc[(dfm_viz.bin == 'cfnmtx' ) & (dfm_viz.Presence == 'FP'), \"bin\"] = \"FP\"\n",
    "    # dfm_viz.loc[(dfm_viz.bin == 'cfnmtx' ) & (dfm_viz.Presence == 'FN'), \"bin\"] = \"FN\"\n",
    "    '''\n",
    "\n",
    "    # sns.set_theme()\n",
    "    # g = sns.catplot(x=\"temporal_frame_start_times\", y='bin', height = 5, aspect = 16, jitter = False, data= dfm_viz)#\n",
    "\n",
    "    \n",
    "    '''\n",
    "    # g = sns.scatterplot(data=dfm_viz, x=\"temporal_frame_start_times\", y=\"Presence\", hue=\"bin\")\n",
    "    # g.set(rc={'figure.figsize':(12,8.27)})\n",
    "    # g.set(xticklabels=[])  \n",
    "    # g.set(yticklabels=[]) \n",
    "    # g.yaxis.set_major_locator(ticker.MultipleLocator(1)) \n",
    "    # g.set(title='Penguins: Body Mass by Species for Gender')\n",
    "    '''\n",
    "\n",
    "    # g.fig.subplots_adjust(top=0.9)\n",
    "    # g.fig.suptitle(title)\n",
    "    # g.set(ylabel=None)\n",
    "    # g.tick_params(bottom=False)\n",
    "    \n",
    "    # g.savefig(os.path.join(\"data/out/temporal_plots_test\",filenames[i][:-4]+'_temporal_plot'))\n",
    "    # plt.close('all')\n",
    "\n",
    "    fig = px.scatter(dfm_viz, y='bin', x=\"temporal_frame_start_times\", color=\"bin\", width=5*800,height=400,)\n",
    "    fig.update_traces(marker_size=5)\n",
    "    fig.update_layout(title_text = title, title_x=0.5,legend_title_text='Annotation',yaxis_title=None)\n",
    "    # fig.update_yaxes(visible=False, showticklabels=True)\n",
    "    # fig.show()\n",
    "    fig.write_image(file=os.path.join(dir2,'temporal_plots_test',filenames[i][:-4]+'_temporal_plot.png'), format='png')\n",
    "    fig.write_html(file=os.path.join(dir2,'temporal_plots_test',filenames[i][:-4]+'_temporal_plot.html'))\n",
    "    # pl.show()"
   ]
  },
  {
   "cell_type": "code",
   "execution_count": null,
   "metadata": {},
   "outputs": [],
   "source": []
  }
 ],
 "metadata": {
  "interpreter": {
   "hash": "d1b7c51cb1c07a1a0543a455994ca61e31e66a1747528d0d0492d9b5937ed4ce"
  },
  "kernelspec": {
   "display_name": "Python 3.8.12 ('tweety')",
   "language": "python",
   "name": "python3"
  },
  "language_info": {
   "codemirror_mode": {
    "name": "ipython",
    "version": 3
   },
   "file_extension": ".py",
   "mimetype": "text/x-python",
   "name": "python",
   "nbconvert_exporter": "python",
   "pygments_lexer": "ipython3",
   "version": "3.8.12"
  },
  "orig_nbformat": 4
 },
 "nbformat": 4,
 "nbformat_minor": 2
}
