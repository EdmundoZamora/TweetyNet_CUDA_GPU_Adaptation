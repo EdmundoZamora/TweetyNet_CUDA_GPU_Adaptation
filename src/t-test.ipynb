{
 "cells": [
  {
   "cell_type": "code",
   "execution_count": 1,
   "metadata": {},
   "outputs": [],
   "source": [
    "import scipy\n",
    "import numpy as np\n",
    "from statsmodels.stats.weightstats import ttest_ind\n",
    "\n",
    "drinks_before = np.random.normal(2.3,0.9,1000)\n",
    "drinks_after = np.random.normal(1.8,0.7,1000)\n",
    "\n",
    "ttest = ttest_ind(drinks_before, drinks_after)"
   ]
  },
  {
   "cell_type": "code",
   "execution_count": 2,
   "metadata": {},
   "outputs": [
    {
     "data": {
      "text/plain": [
       "(13.152222773156492, 5.942550892255285e-38, 1998.0)"
      ]
     },
     "execution_count": 2,
     "metadata": {},
     "output_type": "execute_result"
    }
   ],
   "source": [
    "ttest"
   ]
  },
  {
   "cell_type": "code",
   "execution_count": 3,
   "metadata": {},
   "outputs": [],
   "source": [
    "from scipy.stats import ttest_ind"
   ]
  },
  {
   "cell_type": "code",
   "execution_count": 4,
   "metadata": {},
   "outputs": [],
   "source": [
    "ttest_sps = ttest_ind(drinks_before, drinks_after,equal_var = False)"
   ]
  },
  {
   "cell_type": "code",
   "execution_count": 5,
   "metadata": {},
   "outputs": [
    {
     "data": {
      "text/plain": [
       "(13.152222773156486, 7.124539233756805e-38)"
      ]
     },
     "execution_count": 5,
     "metadata": {},
     "output_type": "execute_result"
    }
   ],
   "source": [
    "tstat = ttest_sps.statistic\n",
    "p = ttest_sps.pvalue\n",
    "tstat,p"
   ]
  },
  {
   "cell_type": "code",
   "execution_count": 6,
   "metadata": {},
   "outputs": [],
   "source": [
    "threshold = .05"
   ]
  },
  {
   "cell_type": "code",
   "execution_count": 7,
   "metadata": {},
   "outputs": [],
   "source": [
    "# test yields a pvalue of  7.124539233756805e-38"
   ]
  },
  {
   "cell_type": "markdown",
   "metadata": {},
   "source": [
    "### Can reject null hypothesis, "
   ]
  },
  {
   "cell_type": "code",
   "execution_count": 8,
   "metadata": {},
   "outputs": [],
   "source": [
    "# population we are comparing to \n",
    "# and a population we are checking."
   ]
  },
  {
   "cell_type": "code",
   "execution_count": 15,
   "metadata": {},
   "outputs": [
    {
     "data": {
      "text/plain": [
       "(15, 15)"
      ]
     },
     "execution_count": 15,
     "metadata": {},
     "output_type": "execute_result"
    }
   ],
   "source": [
    "#GPU training accuracy and loss at end of 100th epoch on NIPS, how was the data split and are the splits matching in file with the CPU splits?\n",
    "\n",
    "acc = [ 89.28794113979299,\n",
    "        87.65432098765432,\n",
    "        88.19210624766181,\n",
    "        89.0447686743983,\n",
    "        88.17028307769048,\n",
    "        88.68468636987156,\n",
    "        89.39549819179449,\n",
    "        88.39007357525877,\n",
    "        88.47113106372365,\n",
    "        88.88733009103379,\n",
    "        88.54283576505799,\n",
    "        88.52257139294176,\n",
    "        88.19522384337199,\n",
    "        89.15076692854471,\n",
    "        88.56310013717422]\n",
    "\n",
    "loss = [1.2841982543468475,\n",
    "        1.4400151073932648,\n",
    "        1.3928805887699127,\n",
    "        1.2995456755161285,\n",
    "        1.3862846791744232,\n",
    "        1.3315181732177734,\n",
    "        1.2454382181167603,\n",
    "        1.3729434609413147,\n",
    "        1.3651424795389175,\n",
    "        1.3257267624139786,\n",
    "        1.3586173355579376,\n",
    "        1.3555727303028107,\n",
    "        1.3874153345823288,\n",
    "        1.279147669672966,\n",
    "        1.3579276502132416]\n",
    "\n",
    "\n",
    "# 1 training time 0:01:14.426351 seconds\n",
    "# 2 training time 0:01:03.349414 seconds\n",
    "# 3 training time 0:01:02.190161 seconds\n",
    "# 4 training time 0:00:55.643672 seconds\n",
    "# 5 training time 0:00:49.095492 seconds\n",
    "# 6 training time 0:00:51.923984 seconds\n",
    "# 7 training time 0:01:04.468815 seconds\n",
    "# 8 training time 54.612448 seconds\n",
    "# 9 training time 57.284454 seconds\n",
    "# 10 training time 53.336792 seconds\n",
    "# 11 training time 55.611280 seconds\n",
    "# 12 training time 59.712895 seconds\n",
    "# 13 training time 54.212680 seconds\n",
    "# 14 training time 57.649283 seconds\n",
    "# 15 training time 0:01:01.556259 seconds\n",
    "\n",
    "len(acc),len(loss)"
   ]
  },
  {
   "cell_type": "code",
   "execution_count": 16,
   "metadata": {},
   "outputs": [
    {
     "data": {
      "text/plain": [
       "(15, 15)"
      ]
     },
     "execution_count": 16,
     "metadata": {},
     "output_type": "execute_result"
    }
   ],
   "source": [
    "# CPU training accuracy and loss at end of 100th epoch on NIPS\n",
    "\n",
    "acc = [ 87.48129606246948,\n",
    "        ,\n",
    "        ,\n",
    "        ,\n",
    "        ,\n",
    "        ,\n",
    "        ,\n",
    "        ,\n",
    "        ,\n",
    "        ,\n",
    "        ,\n",
    "        ,\n",
    "        ,\n",
    "        ,\n",
    "        ]\n",
    "\n",
    "loss = [1.4749480485916138,\n",
    "        ,\n",
    "        ,\n",
    "        ,\n",
    "        ,\n",
    "        ,\n",
    "        ,\n",
    "        ,\n",
    "        ,\n",
    "        ,\n",
    "        ,\n",
    "        ,\n",
    "        ,\n",
    "        ,\n",
    "        ]\n",
    "\n",
    "\n",
    "# 1 training time 0:11:09.396899 seconds\n",
    "# 2 training time  seconds\n",
    "# 3 training time  seconds\n",
    "# 4 training time  seconds\n",
    "# 5 training time  seconds\n",
    "# 6 training time  seconds\n",
    "# 7 training time  seconds\n",
    "# 8 training time  seconds\n",
    "# 9 training time  seconds\n",
    "# 10 training time  seconds\n",
    "# 11 training time  seconds\n",
    "# 12 training time  seconds\n",
    "# 13 training time  seconds\n",
    "# 14 training time  seconds\n",
    "# 15 training time  seconds\n",
    "\n",
    "len(acc),len(loss)"
   ]
  },
  {
   "cell_type": "code",
   "execution_count": null,
   "metadata": {},
   "outputs": [],
   "source": []
  }
 ],
 "metadata": {
  "interpreter": {
   "hash": "d1b7c51cb1c07a1a0543a455994ca61e31e66a1747528d0d0492d9b5937ed4ce"
  },
  "kernelspec": {
   "display_name": "Python 3.8.12 ('tweety')",
   "language": "python",
   "name": "python3"
  },
  "language_info": {
   "codemirror_mode": {
    "name": "ipython",
    "version": 3
   },
   "file_extension": ".py",
   "mimetype": "text/x-python",
   "name": "python",
   "nbconvert_exporter": "python",
   "pygments_lexer": "ipython3",
   "version": "3.8.12"
  },
  "orig_nbformat": 4
 },
 "nbformat": 4,
 "nbformat_minor": 2
}
