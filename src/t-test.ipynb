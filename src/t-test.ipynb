{
 "cells": [
  {
   "cell_type": "code",
   "execution_count": 20,
   "metadata": {},
   "outputs": [],
   "source": [
    "import scipy.stats as stats\n",
    "import numpy as np"
   ]
  },
  {
   "cell_type": "markdown",
   "metadata": {},
   "source": [
    "# Unpooled two sample T-test"
   ]
  },
  {
   "cell_type": "markdown",
   "metadata": {},
   "source": [
    "### Investigates whether the means of two independent data samples differ from one another. in a two sample t-test, the null hypothesis is that the means of both groups are the same."
   ]
  },
  {
   "cell_type": "code",
   "execution_count": 21,
   "metadata": {},
   "outputs": [],
   "source": [
    "threshold = '.05'\n",
    "confidence_level = '95%'"
   ]
  },
  {
   "cell_type": "code",
   "execution_count": 22,
   "metadata": {},
   "outputs": [
    {
     "data": {
      "text/plain": [
       "(15, 15, 15, 61.556259, 70.33826533333333)"
      ]
     },
     "execution_count": 22,
     "metadata": {},
     "output_type": "execute_result"
    }
   ],
   "source": [
    "#GPU training accuracy and loss at end of 100th epoch on NIPS, how was the data split and are the splits matching in file with the CPU splits?\n",
    "\n",
    "acc_GPU = [89.28794113979299,\n",
    "        87.65432098765432,\n",
    "        88.19210624766181,\n",
    "        89.0447686743983,\n",
    "        88.17028307769048,\n",
    "        88.68468636987156,\n",
    "        89.39549819179449,\n",
    "        88.39007357525877,\n",
    "        88.47113106372365,\n",
    "        88.88733009103379,\n",
    "        88.54283576505799,\n",
    "        88.52257139294176,\n",
    "        88.19522384337199,\n",
    "        89.15076692854471,\n",
    "        88.56310013717422]\n",
    "\n",
    "loss_GPU = [1.2841982543468475,\n",
    "        1.4400151073932648,\n",
    "        1.3928805887699127,\n",
    "        1.2995456755161285,\n",
    "        1.3862846791744232,\n",
    "        1.3315181732177734,\n",
    "        1.2454382181167603,\n",
    "        1.3729434609413147,\n",
    "        1.3651424795389175,\n",
    "        1.3257267624139786,\n",
    "        1.3586173355579376,\n",
    "        1.3555727303028107,\n",
    "        1.3874153345823288,\n",
    "        1.279147669672966,\n",
    "        1.3579276502132416]\n",
    "\n",
    "# recorded times for training\n",
    "# region\n",
    "# 1 training time 74.426351 seconds\n",
    "# 2 training time 63.349414 seconds\n",
    "# 3 training time 62.190161 seconds\n",
    "# 4 training time 115.643672 seconds\n",
    "# 5 training time 109.095492 seconds\n",
    "# 6 training time 111.923984 seconds\n",
    "# 7 training time 64.468815 seconds\n",
    "# 8 training time 54.612448 seconds\n",
    "# 9 training time 57.284454 seconds\n",
    "# 10 training time 53.336792 seconds\n",
    "# 11 training time 55.611280 seconds\n",
    "# 12 training time 59.712895 seconds\n",
    "# 13 training time 54.212680 seconds\n",
    "# 14 training time 57.649283 seconds\n",
    "# 15 training time 61.556259 seconds\n",
    "# endregion\n",
    "\n",
    "times = [74.426351,\n",
    "63.349414,\n",
    "62.190161,\n",
    "115.643672,\n",
    "109.095492,\n",
    "111.923984,\n",
    "64.468815,\n",
    "54.612448,\n",
    "57.284454,\n",
    "53.336792,\n",
    "55.611280,\n",
    "59.712895,\n",
    "54.212680,\n",
    "57.649283,\n",
    "61.556259]\n",
    "\n",
    "med_time_seconds = 61.556259\n",
    "med_time_mins = '1 min 1 sec, 1.025938 min'\n",
    "\n",
    "avg_time_seconds = 70.33826533333333\n",
    "avg_time_mins = '1 min 10 sec, 1.172304 min'\n",
    "\n",
    "len(acc_GPU),len(loss_GPU),len(times),np.median(times), np.mean(times)"
   ]
  },
  {
   "cell_type": "code",
   "execution_count": 23,
   "metadata": {},
   "outputs": [
    {
     "data": {
      "text/plain": [
       "(15, 15, 15, 753.562039, 725.9746469333332)"
      ]
     },
     "execution_count": 23,
     "metadata": {},
     "output_type": "execute_result"
    }
   ],
   "source": [
    "# CPU training accuracy and loss at end of 100th epoch on NIPS\n",
    "\n",
    "acc_CPU = [ 87.48129606246948,\n",
    "        88.34331035614014,\n",
    "        89.07282948493958,\n",
    "        89.06347155570984,\n",
    "        89.82572555541992,\n",
    "        89.96757864952087,\n",
    "        86.55692934989929,\n",
    "        89.21935558319092,\n",
    "        89.6807610988617,\n",
    "        89.22714591026306,\n",
    "        89.62776064872742,\n",
    "        89.83819484710693,\n",
    "        89.00891542434692,\n",
    "        88.54595422744751,\n",
    "        89.88339900970459\n",
    "        ]\n",
    "        \n",
    "# delete files in out and downsampled pickles else it outputs previous accuracy and loss.\n",
    "loss_CPU = [1.4749480485916138,\n",
    "        1.3730924874544144,\n",
    "        1.2999057471752167,\n",
    "        1.2973851561546326,\n",
    "        1.2326992899179459,\n",
    "        1.206596463918686,\n",
    "        1.5558882355690002,\n",
    "        1.332784652709961,\n",
    "        1.2444825172424316,\n",
    "        1.30466128885746,\n",
    "        1.2385924607515335,\n",
    "        1.2206190079450607,\n",
    "        1.2771505862474442,\n",
    "        1.3373953998088837,\n",
    "        1.1882243752479553\n",
    "        ]\n",
    "\n",
    "# recorded times for training\n",
    "# region\n",
    "# 1 training time 669.396899 seconds\n",
    "# 2 training time 870.183800 seconds\n",
    "# 3 training time 660 mins 0 seconds\n",
    "# 4 training time 665.073142 seconds\n",
    "# 5 training time 679.237786 seconds\n",
    "# 6 training time 783.128665 seconds\n",
    "# 7 training time 807.589425 seconds \n",
    "# 8 training time 657.907862 seconds\n",
    "# 9 training time 758.976197 seconds last \n",
    "# 10 training time 551.298181 seconds\n",
    "# 11 training time 785.830169 seconds\n",
    "# 12 training time 612.268949 seconds\n",
    "# 13 training time 776.659075 seconds\n",
    "# 14 training time 753.562039 seconds\n",
    "# 15 training time 858.507515 seconds\n",
    "# endregion \n",
    "\n",
    "times = [669.396899,\n",
    "870.183800,\n",
    "660,\n",
    "665.073142,\n",
    "679.237786,\n",
    "783.128665,\n",
    "807.589425,\n",
    "657.907862,\n",
    "758.976197,\n",
    "551.298181,\n",
    "785.830169,\n",
    "612.268949,\n",
    "776.659075,\n",
    "753.562039,\n",
    "858.507515]\n",
    "\n",
    "avg_time_seconds = 725.9746469333332\n",
    "avg_time_mins = '12 min 5 sec, 12.099577 min'\n",
    "\n",
    "med_time_seconds = 753.562039\n",
    "med_time_mins = '12 min 33 sec,12.559367 min'\n",
    "\n",
    "len(acc_CPU),len(loss_CPU),len(times),np.median(times),np.mean(times)"
   ]
  },
  {
   "cell_type": "code",
   "execution_count": 24,
   "metadata": {},
   "outputs": [
    {
     "data": {
      "text/plain": [
       "Ttest_indResult(statistic=-1.4881497017338858, pvalue=0.1519576341917487)"
      ]
     },
     "execution_count": 24,
     "metadata": {},
     "output_type": "execute_result"
    }
   ],
   "source": [
    "stats.ttest_ind(a = acc_GPU, b = acc_CPU, equal_var = False)"
   ]
  },
  {
   "cell_type": "markdown",
   "metadata": {},
   "source": [
    "### The resulting test for both models training accuracy after 100 epochs yields a p-value of 0.1519, which means there is a 15% chance we would see sample data this far apart if the two groups tested are actually identical.\n",
    "### Using a 95% confidence level we can fail to reject the null hypothesis, since the p-value is greater than the corresponding significance level of 5%. "
   ]
  },
  {
   "cell_type": "code",
   "execution_count": 25,
   "metadata": {},
   "outputs": [
    {
     "data": {
      "text/plain": [
       "Ttest_indResult(statistic=1.3619096518411842, pvalue=0.18779477137344236)"
      ]
     },
     "execution_count": 25,
     "metadata": {},
     "output_type": "execute_result"
    }
   ],
   "source": [
    "stats.ttest_ind(a = loss_GPU, b = loss_CPU, equal_var = False)"
   ]
  },
  {
   "cell_type": "markdown",
   "metadata": {},
   "source": [
    "### The resulting test for both models training loss after 100 epochs yields a p-value of 0.1877, which means there is a 19% chance we would see sample data this far apart if the two groups tested are actually identical.\n",
    "### Using a 95% confidence level we can fail to reject the null hypothesis, since the p-value is greater than the corresponding significance level of 5%. "
   ]
  },
  {
   "cell_type": "markdown",
   "metadata": {},
   "source": [
    "### Average training time for GPU Model 1 min 10 sec <br> Average training time for CPU Model 12 min 33 sec <br> Median training time for GPU Model 1 min 1 sec <br> Median training time for CPU Model 12 min 5 sec <br>"
   ]
  },
  {
   "cell_type": "markdown",
   "metadata": {},
   "source": []
  }
 ],
 "metadata": {
  "interpreter": {
   "hash": "d1b7c51cb1c07a1a0543a455994ca61e31e66a1747528d0d0492d9b5937ed4ce"
  },
  "kernelspec": {
   "display_name": "Python 3.8.12 ('tweety')",
   "language": "python",
   "name": "python3"
  },
  "language_info": {
   "codemirror_mode": {
    "name": "ipython",
    "version": 3
   },
   "file_extension": ".py",
   "mimetype": "text/x-python",
   "name": "python",
   "nbconvert_exporter": "python",
   "pygments_lexer": "ipython3",
   "version": "3.8.12"
  },
  "orig_nbformat": 4
 },
 "nbformat": 4,
 "nbformat_minor": 2
}
